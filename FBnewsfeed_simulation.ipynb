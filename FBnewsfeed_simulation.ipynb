{
 "cells": [
  {
   "cell_type": "code",
   "execution_count": 1,
   "metadata": {},
   "outputs": [
    {
     "name": "stdout",
     "output_type": "stream",
     "text": [
      "The article 'Why We Need Tax Cuts: A Boost for the Middle Class' appears. Write in 0 for 'no action,' 1 for 'click to read', or 2 for 'like'0\n",
      "You took no action\n",
      "Write in 0 for 'no action,' 1 for 'comment'0\n",
      "You did NOT comment on the article\n",
      "-2\n"
     ]
    }
   ],
   "source": [
    "#Make sure your cursor is clicked inside this box. Then, hit the \"run\" button in the above menu bar--looks like a \"play\" button.\n",
    "\n",
    "from Gravy.Cell1 import *\n",
    "        \n",
    "print(firstscore)\n",
    "\n"
   ]
  },
  {
   "cell_type": "code",
   "execution_count": 2,
   "metadata": {},
   "outputs": [
    {
     "name": "stdout",
     "output_type": "stream",
     "text": [
      "The video 'Delicious Mac and Cheese OMG, so easy!' appears. Write in 0 for 'no action,' 1 to 'click to read', or 2 to 'like'1\n",
      "You clicked the article\n",
      "Write in 0 for 'no action,' 1 for 'comment'0\n",
      "You did NOT comment on the article\n",
      "1\n"
     ]
    }
   ],
   "source": [
    "#Make sure your cursor is clicked inside this box. Then, hit the \"run\" button in the above menu bar--looks like a \"play\" button.\n",
    "import random\n",
    "\n",
    "from Gravy.Cell2 import *\n",
    "\n",
    "print(secondscore)\n",
    "\n"
   ]
  },
  {
   "cell_type": "code",
   "execution_count": 3,
   "metadata": {},
   "outputs": [
    {
     "name": "stdout",
     "output_type": "stream",
     "text": [
      "The event 'Protest for Healthcare Downtown' appears. Write in 0 for 'no action,' 1 for 'click to read', or 2 for 'like'2\n",
      "You clicked on and liked the article\n",
      "Write in 0 for 'no action,' 1 for 'comment'1\n",
      "You commented on the post\n",
      "-3\n"
     ]
    }
   ],
   "source": [
    "#Make sure your cursor is clicked inside this box. Then, hit the \"run\" button in the above menu bar--looks like a \"play\" button.\n",
    "\n",
    "from Gravy.Cell3 import *\n",
    "\n",
    "print(thirdscore)\n",
    "\n"
   ]
  },
  {
   "cell_type": "code",
   "execution_count": 4,
   "metadata": {},
   "outputs": [
    {
     "name": "stdout",
     "output_type": "stream",
     "text": [
      "-4\n",
      "Transgender Peoples' Rights in the Military\n"
     ]
    }
   ],
   "source": [
    "score1 = firstscore + secondscore + thirdscore\n",
    "print(score1)\n",
    "\n",
    "from Gravy.Cell4 import *\n",
    "\n",
    "nextpost = fourthpost(score1)\n",
    "print(nextpost)\n",
    "\n"
   ]
  },
  {
   "cell_type": "code",
   "execution_count": 5,
   "metadata": {},
   "outputs": [
    {
     "name": "stdout",
     "output_type": "stream",
     "text": [
      "The post above appears. Write in 0 for 'no action,' 1 for 'click to read', or 2 for 'like'2\n",
      "You clicked on and liked the article\n",
      "Write in 0 for 'no action,' 1 for 'comment'1\n",
      "You commented on the post\n",
      "-7\n"
     ]
    }
   ],
   "source": [
    "#Make sure your cursor is clicked inside this box. Then, hit the \"run\" button in the above menu bar--looks like a \"play\" button.\n",
    "\n",
    "from Gravy.Cell5 import *\n",
    "\n",
    "nextpostscore = fourthpostscore(nextpost)\n",
    "\n",
    "#just need to run this to get a batch of posts across your newsfeed.\n",
    "total = nextpostscore + score1\n",
    "print(total)\n",
    "\n"
   ]
  },
  {
   "cell_type": "code",
   "execution_count": 6,
   "metadata": {},
   "outputs": [
    {
     "name": "stdout",
     "output_type": "stream",
     "text": [
      "Facebook likes to keep you engaged (see: ad $). These are the four posts you see based on your history:\n",
      "1\n",
      "Pittsburgh is a Nationally Ranked Foodie Destination. Why are Residents Experiencing Food Insecurity?\n",
      "2\n",
      "Are the Lizard People REAL Liberals? The Answer May Surprise You\n",
      "3\n",
      "Friend's Post About Life Event/Selfie/Pyramid Scheme Proposition\n",
      "4\n",
      "Schools are More Segregated Now Than They Were in the 1960s\n",
      "----Of the four posts that are now in your feed, choose one to share. Type 1, 2, 3, or 4--the number corresponds with position 2\n",
      "You chose to share! Sharing is caring. Don't be shy, add your own text, too! Rhetorical velocity!\n",
      "----What you are posting:\n",
      "Text above shared post: OPEN your EYES\n",
      "article post: Are the Lizard People REAL Liberals? The Answer May Surprise You\n"
     ]
    }
   ],
   "source": [
    "#just need to run this to continue toward getting your batch of posts across your newsfeed.\n",
    "from Gravy.Cell6 import *\n",
    "\n",
    "share = finalposts(total)\n",
    "\n"
   ]
  },
  {
   "cell_type": "code",
   "execution_count": 7,
   "metadata": {},
   "outputs": [
    {
     "name": "stdout",
     "output_type": "stream",
     "text": [
      "This post is FAKE NEWS. Your Uncle Nate has seen your share as an endorsement.\n",
      "Uncle Nate really wants to believe it, and has ignored any critical thinking or information literacy he may possess.\n",
      "Other Uncle Nates in Uncle Nate's network of friends have read it. Some have also shared it.\n",
      "Now their respective networks have also been exposed. Now there are a lot of people interested in Lizard People.\n",
      "One of about 400 or so odd Facebook accounts produced this article and maybe more shared  it.\n",
      "And just like that, many millions have seen it...sort of.\n",
      "Sort of because it depends on how their newsfeed has been filtered.\n"
     ]
    }
   ],
   "source": [
    "from Gravy.Cell7 import *\n",
    "\n",
    "sharepost(share)\n",
    "    \n",
    "    "
   ]
  },
  {
   "cell_type": "code",
   "execution_count": null,
   "metadata": {
    "collapsed": true
   },
   "outputs": [],
   "source": []
  }
 ],
 "metadata": {
  "kernelspec": {
   "display_name": "Python 3",
   "language": "python",
   "name": "python3"
  },
  "language_info": {
   "codemirror_mode": {
    "name": "ipython",
    "version": 3
   },
   "file_extension": ".py",
   "mimetype": "text/x-python",
   "name": "python",
   "nbconvert_exporter": "python",
   "pygments_lexer": "ipython3",
   "version": "3.6.3"
  }
 },
 "nbformat": 4,
 "nbformat_minor": 2
}
